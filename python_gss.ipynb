{
 "cells": [
  {
   "cell_type": "markdown",
   "metadata": {},
   "source": [
    "PythonでGSSを編集できるようにしたい"
   ]
  },
  {
   "cell_type": "markdown",
   "metadata": {},
   "source": [
    "test.py"
   ]
  },
  {
   "cell_type": "code",
   "execution_count": null,
   "metadata": {},
   "outputs": [],
   "source": [
    "import gspread\n",
    "from oauth2client.service_account import ServiceAccountCredentials\n",
    "\n",
    "scope = ['https://spreadsheets.google.com/feeds',\n",
    "         'https://www.googleapis.com/auth/drive']\n",
    "\n",
    "credentials = ServiceAccountCredentials.from_json_keyfile_name('money-line-python-638e48c935e8.json', scope)\n",
    "gc = gspread.authorize(credentials)\n",
    "wks = gc.open('money_LINE_python').sheet1\n",
    "\n",
    "wks.update_acell('A1', 'Hello World!')\n",
    "print(wks.acell('A1'))"
   ]
  },
  {
   "cell_type": "code",
   "execution_count": null,
   "metadata": {},
   "outputs": [],
   "source": []
  },
  {
   "cell_type": "code",
   "execution_count": 1,
   "metadata": {},
   "outputs": [],
   "source": [
    "import gspread\n",
    "from oauth2client.service_account import ServiceAccountCredentials"
   ]
  },
  {
   "cell_type": "code",
   "execution_count": 11,
   "metadata": {},
   "outputs": [],
   "source": [
    "scope = ['https://spreadsheets.google.com/feeds',\n",
    "         'https://www.googleapis.com/auth/drive']\n",
    "\n",
    "#jsonファイルから、mailアドレスを取得\n",
    "credentials = ServiceAccountCredentials.from_json_keyfile_name('money-line-python-638e48c935e8.json', scope)\n",
    "gc = gspread.authorize(credentials)"
   ]
  },
  {
   "cell_type": "code",
   "execution_count": 12,
   "metadata": {},
   "outputs": [],
   "source": [
    "gc = gc.open('money_LINE_python')"
   ]
  },
  {
   "cell_type": "code",
   "execution_count": 4,
   "metadata": {
    "scrolled": true
   },
   "outputs": [
    {
     "data": {
      "text/plain": [
       "<Spreadsheet 'money_LINE_python' id:1QmtSTyIzuaqDZXEhs2jHH6_skzM_8AkOU3CoahezpZM>"
      ]
     },
     "execution_count": 4,
     "metadata": {},
     "output_type": "execute_result"
    }
   ],
   "source": [
    "wks"
   ]
  },
  {
   "cell_type": "markdown",
   "metadata": {},
   "source": [
    "ワークシートの追加"
   ]
  },
  {
   "cell_type": "markdown",
   "metadata": {},
   "source": [
    "gc.add_worksheet"
   ]
  },
  {
   "cell_type": "code",
   "execution_count": 6,
   "metadata": {},
   "outputs": [],
   "source": [
    "title = \"2019/12\""
   ]
  },
  {
   "cell_type": "code",
   "execution_count": 14,
   "metadata": {},
   "outputs": [],
   "source": [
    "gc = gspread.authorize(credentials)\n",
    "wks = gc.open('money_LINE_python')"
   ]
  },
  {
   "cell_type": "code",
   "execution_count": 17,
   "metadata": {},
   "outputs": [],
   "source": [
    "try :\n",
    "    #新たにワークシートを作成し、Worksheetオブジェクトをworksheetに格納します。\n",
    "    worksheet = wks.add_worksheet(title=title, rows=\"200\", cols=\"200\")\n",
    "except :\n",
    "    #すでにワークシートが存在しているときは、そのワークシートのWorksheetオブジェクトを格納します。\n",
    "    worksheet = wks.worksheet(title)"
   ]
  },
  {
   "cell_type": "code",
   "execution_count": null,
   "metadata": {},
   "outputs": [],
   "source": []
  },
  {
   "cell_type": "markdown",
   "metadata": {},
   "source": [
    "## カレンダー取得"
   ]
  },
  {
   "cell_type": "markdown",
   "metadata": {},
   "source": [
    "年、月→曜日までシートに書き込む"
   ]
  },
  {
   "cell_type": "code",
   "execution_count": 18,
   "metadata": {},
   "outputs": [],
   "source": [
    "import calendar"
   ]
  },
  {
   "cell_type": "code",
   "execution_count": 20,
   "metadata": {},
   "outputs": [
    {
     "name": "stdout",
     "output_type": "stream",
     "text": [
      "   December 2019\n",
      "Mo Tu We Th Fr Sa Su\n",
      "                   1\n",
      " 2  3  4  5  6  7  8\n",
      " 9 10 11 12 13 14 15\n",
      "16 17 18 19 20 21 22\n",
      "23 24 25 26 27 28 29\n",
      "30 31\n",
      "\n"
     ]
    }
   ],
   "source": [
    "print(calendar.month(2019, 12))"
   ]
  },
  {
   "cell_type": "markdown",
   "metadata": {},
   "source": [
    "日付のリスト"
   ]
  },
  {
   "cell_type": "code",
   "execution_count": 21,
   "metadata": {},
   "outputs": [],
   "source": [
    "import pprint"
   ]
  },
  {
   "cell_type": "code",
   "execution_count": 22,
   "metadata": {},
   "outputs": [
    {
     "name": "stdout",
     "output_type": "stream",
     "text": [
      "[[0, 0, 0, 0, 0, 0, 1],\n",
      " [2, 3, 4, 5, 6, 7, 8],\n",
      " [9, 10, 11, 12, 13, 14, 15],\n",
      " [16, 17, 18, 19, 20, 21, 22],\n",
      " [23, 24, 25, 26, 27, 28, 29],\n",
      " [30, 31, 0, 0, 0, 0, 0]]\n"
     ]
    }
   ],
   "source": [
    "pprint.pprint(calendar.monthcalendar(2019, 12))"
   ]
  },
  {
   "cell_type": "code",
   "execution_count": 23,
   "metadata": {},
   "outputs": [
    {
     "data": {
      "text/plain": [
       "[[0, 0, 0, 0, 0, 0, 1],\n",
       " [2, 3, 4, 5, 6, 7, 8],\n",
       " [9, 10, 11, 12, 13, 14, 15],\n",
       " [16, 17, 18, 19, 20, 21, 22],\n",
       " [23, 24, 25, 26, 27, 28, 29],\n",
       " [30, 31, 0, 0, 0, 0, 0]]"
      ]
     },
     "execution_count": 23,
     "metadata": {},
     "output_type": "execute_result"
    }
   ],
   "source": [
    "calendar.monthcalendar(2019, 12)"
   ]
  },
  {
   "cell_type": "code",
   "execution_count": 25,
   "metadata": {},
   "outputs": [],
   "source": [
    "list_calnum = calendar.monthcalendar(2019, 12)"
   ]
  },
  {
   "cell_type": "code",
   "execution_count": 33,
   "metadata": {},
   "outputs": [],
   "source": [
    "#リストの結合\n",
    "list_calnum_all = []\n",
    "for i in list_calnum:\n",
    "    for s in i:\n",
    "        list_calnum_all.append(s)"
   ]
  },
  {
   "cell_type": "code",
   "execution_count": 36,
   "metadata": {
    "scrolled": true
   },
   "outputs": [],
   "source": [
    "#0を除く\n",
    "#removeは最初の1つだけ削除\n",
    "\n",
    "while 0 in list_calnum_all:\n",
    "    list_calnum_all.remove(0)"
   ]
  },
  {
   "cell_type": "code",
   "execution_count": 37,
   "metadata": {
    "scrolled": true
   },
   "outputs": [
    {
     "data": {
      "text/plain": [
       "[1,\n",
       " 2,\n",
       " 3,\n",
       " 4,\n",
       " 5,\n",
       " 6,\n",
       " 7,\n",
       " 8,\n",
       " 9,\n",
       " 10,\n",
       " 11,\n",
       " 12,\n",
       " 13,\n",
       " 14,\n",
       " 15,\n",
       " 16,\n",
       " 17,\n",
       " 18,\n",
       " 19,\n",
       " 20,\n",
       " 21,\n",
       " 22,\n",
       " 23,\n",
       " 24,\n",
       " 25,\n",
       " 26,\n",
       " 27,\n",
       " 28,\n",
       " 29,\n",
       " 30,\n",
       " 31]"
      ]
     },
     "execution_count": 37,
     "metadata": {},
     "output_type": "execute_result"
    }
   ],
   "source": [
    "list_calnum_all"
   ]
  },
  {
   "cell_type": "markdown",
   "metadata": {},
   "source": [
    "曜日を取得\n"
   ]
  },
  {
   "cell_type": "code",
   "execution_count": 38,
   "metadata": {},
   "outputs": [],
   "source": [
    "c = calendar.Calendar()"
   ]
  },
  {
   "cell_type": "code",
   "execution_count": 45,
   "metadata": {
    "scrolled": true
   },
   "outputs": [
    {
     "data": {
      "text/plain": [
       "[[0, 0, 0, 0, 0, 0, 1],\n",
       " [2, 3, 4, 5, 6, 7, 8],\n",
       " [9, 10, 11, 12, 13, 14, 15],\n",
       " [16, 17, 18, 19, 20, 21, 22],\n",
       " [23, 24, 25, 26, 27, 28, 29],\n",
       " [30, 31, 0, 0, 0, 0, 0]]"
      ]
     },
     "execution_count": 45,
     "metadata": {},
     "output_type": "execute_result"
    }
   ],
   "source": [
    "c.monthdayscalendar(2019, 12)"
   ]
  },
  {
   "cell_type": "code",
   "execution_count": null,
   "metadata": {},
   "outputs": [],
   "source": []
  },
  {
   "cell_type": "code",
   "execution_count": null,
   "metadata": {},
   "outputs": [],
   "source": []
  },
  {
   "cell_type": "code",
   "execution_count": null,
   "metadata": {},
   "outputs": [],
   "source": []
  },
  {
   "cell_type": "code",
   "execution_count": 39,
   "metadata": {},
   "outputs": [
    {
     "data": {
      "text/plain": [
       "[[(0, 0), (0, 1), (0, 2), (0, 3), (0, 4), (0, 5), (1, 6)],\n",
       " [(2, 0), (3, 1), (4, 2), (5, 3), (6, 4), (7, 5), (8, 6)],\n",
       " [(9, 0), (10, 1), (11, 2), (12, 3), (13, 4), (14, 5), (15, 6)],\n",
       " [(16, 0), (17, 1), (18, 2), (19, 3), (20, 4), (21, 5), (22, 6)],\n",
       " [(23, 0), (24, 1), (25, 2), (26, 3), (27, 4), (28, 5), (29, 6)],\n",
       " [(30, 0), (31, 1), (0, 2), (0, 3), (0, 4), (0, 5), (0, 6)]]"
      ]
     },
     "execution_count": 39,
     "metadata": {},
     "output_type": "execute_result"
    }
   ],
   "source": [
    "c.monthdays2calendar(2019, 12)"
   ]
  },
  {
   "cell_type": "code",
   "execution_count": 40,
   "metadata": {},
   "outputs": [],
   "source": [
    "list_cal = c.monthdays2calendar(2019, 12)\n",
    "#結合\n",
    "#リストの結合\n",
    "list_cal_all = []\n",
    "for i in list_cal:\n",
    "    for s in i:\n",
    "        list_cal_all.append(s)"
   ]
  },
  {
   "cell_type": "code",
   "execution_count": 41,
   "metadata": {
    "scrolled": false
   },
   "outputs": [
    {
     "data": {
      "text/plain": [
       "[(0, 0),\n",
       " (0, 1),\n",
       " (0, 2),\n",
       " (0, 3),\n",
       " (0, 4),\n",
       " (0, 5),\n",
       " (1, 6),\n",
       " (2, 0),\n",
       " (3, 1),\n",
       " (4, 2),\n",
       " (5, 3),\n",
       " (6, 4),\n",
       " (7, 5),\n",
       " (8, 6),\n",
       " (9, 0),\n",
       " (10, 1),\n",
       " (11, 2),\n",
       " (12, 3),\n",
       " (13, 4),\n",
       " (14, 5),\n",
       " (15, 6),\n",
       " (16, 0),\n",
       " (17, 1),\n",
       " (18, 2),\n",
       " (19, 3),\n",
       " (20, 4),\n",
       " (21, 5),\n",
       " (22, 6),\n",
       " (23, 0),\n",
       " (24, 1),\n",
       " (25, 2),\n",
       " (26, 3),\n",
       " (27, 4),\n",
       " (28, 5),\n",
       " (29, 6),\n",
       " (30, 0),\n",
       " (31, 1),\n",
       " (0, 2),\n",
       " (0, 3),\n",
       " (0, 4),\n",
       " (0, 5),\n",
       " (0, 6)]"
      ]
     },
     "execution_count": 41,
     "metadata": {},
     "output_type": "execute_result"
    }
   ],
   "source": [
    "list_cal_all"
   ]
  },
  {
   "cell_type": "code",
   "execution_count": 42,
   "metadata": {},
   "outputs": [
    {
     "data": {
      "text/plain": [
       "(0, 0)"
      ]
     },
     "execution_count": 42,
     "metadata": {},
     "output_type": "execute_result"
    }
   ],
   "source": [
    "list_cal_all[0]"
   ]
  },
  {
   "cell_type": "code",
   "execution_count": 43,
   "metadata": {},
   "outputs": [
    {
     "data": {
      "text/plain": [
       "0"
      ]
     },
     "execution_count": 43,
     "metadata": {},
     "output_type": "execute_result"
    }
   ],
   "source": [
    "list_cal_all[0][0]"
   ]
  },
  {
   "cell_type": "code",
   "execution_count": null,
   "metadata": {},
   "outputs": [],
   "source": [
    "list_cal_all.remove"
   ]
  },
  {
   "cell_type": "code",
   "execution_count": null,
   "metadata": {},
   "outputs": [],
   "source": [
    "#0を除く\n",
    "#removeは最初の1つだけ削除\n",
    "\n",
    "while 0 in list_calnum_all:\n",
    "    list_calnum_all.remove(0)"
   ]
  },
  {
   "cell_type": "code",
   "execution_count": null,
   "metadata": {},
   "outputs": [],
   "source": []
  },
  {
   "cell_type": "markdown",
   "metadata": {},
   "source": [
    "## 値を書き込んでみる"
   ]
  },
  {
   "cell_type": "code",
   "execution_count": 55,
   "metadata": {},
   "outputs": [],
   "source": [
    "test = \"交通費 大阪千里丘 1000\""
   ]
  },
  {
   "cell_type": "code",
   "execution_count": 47,
   "metadata": {},
   "outputs": [],
   "source": [
    "day = 13"
   ]
  },
  {
   "cell_type": "code",
   "execution_count": 62,
   "metadata": {
    "scrolled": true
   },
   "outputs": [],
   "source": [
    "gc = gspread.authorize(credentials)\n",
    "wks = gc.open('money_LINE_python').worksheet(\"2019/12\")"
   ]
  },
  {
   "cell_type": "markdown",
   "metadata": {},
   "source": [
    "値を検索してみる"
   ]
  },
  {
   "cell_type": "code",
   "execution_count": 51,
   "metadata": {},
   "outputs": [],
   "source": [
    "cell = wks.find('13日')"
   ]
  },
  {
   "cell_type": "code",
   "execution_count": 52,
   "metadata": {},
   "outputs": [
    {
     "data": {
      "text/plain": [
       "<Cell R15C17 '13日'>"
      ]
     },
     "execution_count": 52,
     "metadata": {},
     "output_type": "execute_result"
    }
   ],
   "source": [
    "cell"
   ]
  },
  {
   "cell_type": "code",
   "execution_count": 53,
   "metadata": {},
   "outputs": [
    {
     "data": {
      "text/plain": [
       "15"
      ]
     },
     "execution_count": 53,
     "metadata": {},
     "output_type": "execute_result"
    }
   ],
   "source": [
    "cell.row"
   ]
  },
  {
   "cell_type": "code",
   "execution_count": 54,
   "metadata": {},
   "outputs": [
    {
     "data": {
      "text/plain": [
       "17"
      ]
     },
     "execution_count": 54,
     "metadata": {},
     "output_type": "execute_result"
    }
   ],
   "source": [
    "cell.col"
   ]
  },
  {
   "cell_type": "code",
   "execution_count": 59,
   "metadata": {},
   "outputs": [],
   "source": [
    "row = cell.row\n",
    "col = cell.col"
   ]
  },
  {
   "cell_type": "markdown",
   "metadata": {},
   "source": [
    "値を入れてみる"
   ]
  },
  {
   "cell_type": "code",
   "execution_count": 57,
   "metadata": {},
   "outputs": [
    {
     "data": {
      "text/plain": [
       "['交通費', '大阪千里丘', '1000']"
      ]
     },
     "execution_count": 57,
     "metadata": {},
     "output_type": "execute_result"
    }
   ],
   "source": [
    "test.split(\" \")"
   ]
  },
  {
   "cell_type": "code",
   "execution_count": 58,
   "metadata": {},
   "outputs": [],
   "source": [
    "genre = test.split(\" \")[0]\n",
    "what = test.split(\" \")[1]\n",
    "money = test.split(\" \")[2]"
   ]
  },
  {
   "cell_type": "code",
   "execution_count": 63,
   "metadata": {
    "scrolled": true
   },
   "outputs": [],
   "source": [
    "if genre==\"交通費\":\n",
    "    wks.update_cell(row+2, col, what)\n",
    "    wks.update_cell(row+2, col+1, money)    \n",
    "    \n",
    "elif genre==\"食事\":\n",
    "    print(23)"
   ]
  },
  {
   "cell_type": "code",
   "execution_count": null,
   "metadata": {},
   "outputs": [],
   "source": []
  },
  {
   "cell_type": "markdown",
   "metadata": {},
   "source": [
    "他の日でもテスト"
   ]
  },
  {
   "cell_type": "code",
   "execution_count": 65,
   "metadata": {},
   "outputs": [],
   "source": [
    "cell = wks.find('14日')\n",
    "row = cell.row\n",
    "col = cell.col\n",
    "\n",
    "if genre==\"交通費\":\n",
    "    wks.update_cell(row+2, col, what)\n",
    "    wks.update_cell(row+2, col+1, money)    \n",
    "    \n",
    "elif genre==\"食事\":\n",
    "    print(23)"
   ]
  },
  {
   "cell_type": "code",
   "execution_count": null,
   "metadata": {},
   "outputs": [],
   "source": []
  },
  {
   "cell_type": "markdown",
   "metadata": {},
   "source": [
    "## すでに書かれているセルに追記したい"
   ]
  },
  {
   "cell_type": "markdown",
   "metadata": {},
   "source": [
    "現在の値を取得"
   ]
  },
  {
   "cell_type": "code",
   "execution_count": 67,
   "metadata": {},
   "outputs": [],
   "source": [
    "cell_value = wks.cell(row+2, col).value"
   ]
  },
  {
   "cell_type": "code",
   "execution_count": 68,
   "metadata": {},
   "outputs": [
    {
     "data": {
      "text/plain": [
       "'大阪千里丘'"
      ]
     },
     "execution_count": 68,
     "metadata": {},
     "output_type": "execute_result"
    }
   ],
   "source": [
    "cell_value"
   ]
  },
  {
   "cell_type": "code",
   "execution_count": 69,
   "metadata": {},
   "outputs": [
    {
     "data": {
      "text/plain": [
       "{'spreadsheetId': '1QmtSTyIzuaqDZXEhs2jHH6_skzM_8AkOU3CoahezpZM',\n",
       " 'updatedRange': \"'2019/12'!T17\",\n",
       " 'updatedRows': 1,\n",
       " 'updatedColumns': 1,\n",
       " 'updatedCells': 1}"
      ]
     },
     "execution_count": 69,
     "metadata": {},
     "output_type": "execute_result"
    }
   ],
   "source": [
    "wks.update_cell(row+2, col, cell_value+\"\\n\"+what)"
   ]
  },
  {
   "cell_type": "code",
   "execution_count": 71,
   "metadata": {},
   "outputs": [
    {
     "data": {
      "text/plain": [
       "{'spreadsheetId': '1QmtSTyIzuaqDZXEhs2jHH6_skzM_8AkOU3CoahezpZM',\n",
       " 'updatedRange': \"'2019/12'!U17\",\n",
       " 'updatedRows': 1,\n",
       " 'updatedColumns': 1,\n",
       " 'updatedCells': 1}"
      ]
     },
     "execution_count": 71,
     "metadata": {},
     "output_type": "execute_result"
    }
   ],
   "source": [
    "#金額でも\n",
    "cell_value = wks.cell(row+2, col+1).value\n",
    "wks.update_cell(row+2, col+1, cell_value+\"\\n\"+money)"
   ]
  },
  {
   "cell_type": "markdown",
   "metadata": {},
   "source": [
    "## 金額の合計を計算"
   ]
  },
  {
   "cell_type": "code",
   "execution_count": 73,
   "metadata": {},
   "outputs": [],
   "source": [
    "#金額の取得\n",
    "cell_money = wks.cell(row+2, col+1).value"
   ]
  },
  {
   "cell_type": "code",
   "execution_count": 74,
   "metadata": {},
   "outputs": [
    {
     "data": {
      "text/plain": [
       "'1000\\n1000'"
      ]
     },
     "execution_count": 74,
     "metadata": {},
     "output_type": "execute_result"
    }
   ],
   "source": [
    "cell_money"
   ]
  },
  {
   "cell_type": "code",
   "execution_count": 77,
   "metadata": {},
   "outputs": [
    {
     "data": {
      "text/plain": [
       "['1000', '1000']"
      ]
     },
     "execution_count": 77,
     "metadata": {},
     "output_type": "execute_result"
    }
   ],
   "source": [
    "cell_money.splitlines()"
   ]
  },
  {
   "cell_type": "code",
   "execution_count": 78,
   "metadata": {},
   "outputs": [
    {
     "data": {
      "text/plain": [
       "[1000, 1000]"
      ]
     },
     "execution_count": 78,
     "metadata": {},
     "output_type": "execute_result"
    }
   ],
   "source": [
    "[int(i) for i in cell_money.splitlines()]"
   ]
  },
  {
   "cell_type": "code",
   "execution_count": 79,
   "metadata": {},
   "outputs": [
    {
     "data": {
      "text/plain": [
       "2000"
      ]
     },
     "execution_count": 79,
     "metadata": {},
     "output_type": "execute_result"
    }
   ],
   "source": [
    "sum([int(i) for i in cell_money.splitlines()])"
   ]
  },
  {
   "cell_type": "code",
   "execution_count": null,
   "metadata": {},
   "outputs": [],
   "source": []
  },
  {
   "cell_type": "code",
   "execution_count": null,
   "metadata": {},
   "outputs": [],
   "source": []
  },
  {
   "cell_type": "code",
   "execution_count": 80,
   "metadata": {},
   "outputs": [
    {
     "data": {
      "text/plain": [
       "{'spreadsheetId': '1QmtSTyIzuaqDZXEhs2jHH6_skzM_8AkOU3CoahezpZM',\n",
       " 'updatedRange': \"'2019/12'!V17\",\n",
       " 'updatedRows': 1,\n",
       " 'updatedColumns': 1,\n",
       " 'updatedCells': 1}"
      ]
     },
     "execution_count": 80,
     "metadata": {},
     "output_type": "execute_result"
    }
   ],
   "source": [
    "wks.update_cell(row+2, col+2, sum([int(i) for i in cell_money.splitlines()]))"
   ]
  },
  {
   "cell_type": "markdown",
   "metadata": {},
   "source": [
    "## 日付の取得"
   ]
  },
  {
   "cell_type": "markdown",
   "metadata": {},
   "source": [
    "datetimeで取得するのがよさそう"
   ]
  },
  {
   "cell_type": "markdown",
   "metadata": {},
   "source": [
    "参考：https://github.com/tamago324/date_the_image/blob/master/date_the_image.py"
   ]
  },
  {
   "cell_type": "code",
   "execution_count": 83,
   "metadata": {},
   "outputs": [],
   "source": [
    "from datetime import datetime"
   ]
  },
  {
   "cell_type": "code",
   "execution_count": 84,
   "metadata": {},
   "outputs": [
    {
     "data": {
      "text/plain": [
       "datetime.datetime(2019, 12, 22, 18, 31, 54, 80934)"
      ]
     },
     "execution_count": 84,
     "metadata": {},
     "output_type": "execute_result"
    }
   ],
   "source": [
    "datetime.now()"
   ]
  },
  {
   "cell_type": "code",
   "execution_count": 89,
   "metadata": {},
   "outputs": [],
   "source": [
    "dt_now = datetime.now()"
   ]
  },
  {
   "cell_type": "code",
   "execution_count": 90,
   "metadata": {},
   "outputs": [
    {
     "data": {
      "text/plain": [
       "2019"
      ]
     },
     "execution_count": 90,
     "metadata": {},
     "output_type": "execute_result"
    }
   ],
   "source": [
    "dt_now.year"
   ]
  },
  {
   "cell_type": "code",
   "execution_count": 92,
   "metadata": {},
   "outputs": [
    {
     "data": {
      "text/plain": [
       "12"
      ]
     },
     "execution_count": 92,
     "metadata": {},
     "output_type": "execute_result"
    }
   ],
   "source": [
    "dt_now.month"
   ]
  },
  {
   "cell_type": "code",
   "execution_count": 91,
   "metadata": {
    "scrolled": true
   },
   "outputs": [
    {
     "data": {
      "text/plain": [
       "22"
      ]
     },
     "execution_count": 91,
     "metadata": {},
     "output_type": "execute_result"
    }
   ],
   "source": [
    "dt_now.day"
   ]
  },
  {
   "cell_type": "markdown",
   "metadata": {},
   "source": [
    "## Herokuと連携させていく"
   ]
  },
  {
   "cell_type": "markdown",
   "metadata": {},
   "source": [
    "event.message.textが取得したメッセージになる"
   ]
  },
  {
   "cell_type": "code",
   "execution_count": null,
   "metadata": {},
   "outputs": [],
   "source": [
    "text = event.message.text"
   ]
  },
  {
   "cell_type": "code",
   "execution_count": 81,
   "metadata": {},
   "outputs": [],
   "source": [
    "#練習\n",
    "text = \"交通費 大阪千里丘 1000\""
   ]
  },
  {
   "cell_type": "code",
   "execution_count": 109,
   "metadata": {},
   "outputs": [],
   "source": [
    "text = \"おかし ローソン 1000\""
   ]
  },
  {
   "cell_type": "code",
   "execution_count": 110,
   "metadata": {},
   "outputs": [],
   "source": [
    "#項目、内容、金額に分ける\n",
    "genre = text.split(\" \")[0]\n",
    "what = text.split(\" \")[1]\n",
    "money = text.split(\" \")[2]"
   ]
  },
  {
   "cell_type": "markdown",
   "metadata": {},
   "source": [
    "日付は、event.postback.params['date']で取得  \n",
    "↑これは違った"
   ]
  },
  {
   "cell_type": "code",
   "execution_count": 111,
   "metadata": {},
   "outputs": [],
   "source": [
    "dt_now = datetime.now()\n",
    "year = dt_now.year\n",
    "month = dt_now.month\n",
    "day = dt_now.day"
   ]
  },
  {
   "cell_type": "markdown",
   "metadata": {},
   "source": [
    "ワークシートを開く"
   ]
  },
  {
   "cell_type": "code",
   "execution_count": 112,
   "metadata": {},
   "outputs": [],
   "source": [
    "year_month = str(year) + \"/\" + str(month)"
   ]
  },
  {
   "cell_type": "code",
   "execution_count": 113,
   "metadata": {},
   "outputs": [
    {
     "data": {
      "text/plain": [
       "'2019/12'"
      ]
     },
     "execution_count": 113,
     "metadata": {},
     "output_type": "execute_result"
    }
   ],
   "source": [
    "year_month"
   ]
  },
  {
   "cell_type": "code",
   "execution_count": 114,
   "metadata": {},
   "outputs": [],
   "source": [
    "gc = gspread.authorize(credentials)\n",
    "wks = gc.open('money_LINE_python').worksheet(year_month)"
   ]
  },
  {
   "cell_type": "code",
   "execution_count": 99,
   "metadata": {},
   "outputs": [
    {
     "data": {
      "text/plain": [
       "<Worksheet '2019/12' id:1689226280>"
      ]
     },
     "execution_count": 99,
     "metadata": {},
     "output_type": "execute_result"
    }
   ],
   "source": [
    "wks"
   ]
  },
  {
   "cell_type": "markdown",
   "metadata": {},
   "source": [
    "日付を検索"
   ]
  },
  {
   "cell_type": "code",
   "execution_count": 115,
   "metadata": {},
   "outputs": [],
   "source": [
    "day_name = str(day) + \"日\"\n",
    "\n",
    "cell = wks.find(day_name)\n",
    "row = cell.row\n",
    "col = cell.col"
   ]
  },
  {
   "cell_type": "code",
   "execution_count": 104,
   "metadata": {},
   "outputs": [
    {
     "data": {
      "text/plain": [
       "2"
      ]
     },
     "execution_count": 104,
     "metadata": {},
     "output_type": "execute_result"
    }
   ],
   "source": [
    "col"
   ]
  },
  {
   "cell_type": "markdown",
   "metadata": {},
   "source": [
    "値を更新"
   ]
  },
  {
   "cell_type": "code",
   "execution_count": 106,
   "metadata": {},
   "outputs": [
    {
     "data": {
      "text/plain": [
       "{'spreadsheetId': '1QmtSTyIzuaqDZXEhs2jHH6_skzM_8AkOU3CoahezpZM',\n",
       " 'updatedRange': \"'2019/12'!C37\",\n",
       " 'updatedRows': 1,\n",
       " 'updatedColumns': 1,\n",
       " 'updatedCells': 1}"
      ]
     },
     "execution_count": 106,
     "metadata": {},
     "output_type": "execute_result"
    }
   ],
   "source": [
    "#交通費の場合\n",
    "\n",
    "#詳細\n",
    "cell_value_what = wks.cell(row+2, col).value\n",
    "#金額\n",
    "cell_value_money = wks.cell(row+2, col+1).value\n",
    "\n",
    "wks.update_cell(row+2, col, cell_value_what+\"\\n\"+what)\n",
    "wks.update_cell(row+2, col+1, cell_value_money+\"\\n\"+money)"
   ]
  },
  {
   "cell_type": "markdown",
   "metadata": {},
   "source": [
    "金額の合計を計算"
   ]
  },
  {
   "cell_type": "code",
   "execution_count": 107,
   "metadata": {},
   "outputs": [],
   "source": [
    "#金額の取得\n",
    "cell_money = wks.cell(row+2, col+1).value"
   ]
  },
  {
   "cell_type": "code",
   "execution_count": 108,
   "metadata": {},
   "outputs": [
    {
     "data": {
      "text/plain": [
       "{'spreadsheetId': '1QmtSTyIzuaqDZXEhs2jHH6_skzM_8AkOU3CoahezpZM',\n",
       " 'updatedRange': \"'2019/12'!D37\",\n",
       " 'updatedRows': 1,\n",
       " 'updatedColumns': 1,\n",
       " 'updatedCells': 1}"
      ]
     },
     "execution_count": 108,
     "metadata": {},
     "output_type": "execute_result"
    }
   ],
   "source": [
    "wks.update_cell(row+2, col+2, sum([int(i) for i in cell_money.splitlines()]))"
   ]
  },
  {
   "cell_type": "markdown",
   "metadata": {},
   "source": [
    "ジャンルごとにif文で書く"
   ]
  },
  {
   "cell_type": "markdown",
   "metadata": {},
   "source": [
    "今のところ、交通費、食事、おかし、趣味、その他"
   ]
  },
  {
   "cell_type": "code",
   "execution_count": 116,
   "metadata": {},
   "outputs": [],
   "source": [
    "if genre==\"交通費\":\n",
    "    #詳細\n",
    "    cell_value_what = wks.cell(row+2, col).value\n",
    "    #金額\n",
    "    cell_value_money = wks.cell(row+2, col+1).value\n",
    "\n",
    "    wks.update_cell(row+2, col, cell_value_what+\"\\n\"+what)\n",
    "    wks.update_cell(row+2, col+1, cell_value_money+\"\\n\"+money) \n",
    "    \n",
    "    #金額の合計\n",
    "    cell_money = wks.cell(row+2, col+1).value\n",
    "    wks.update_cell(row+2, col+2, sum([int(i) for i in cell_money.splitlines()]))\n",
    "    \n",
    "elif genre==\"食事\":\n",
    "    #詳細\n",
    "    cell_value_what = wks.cell(row+3, col).value\n",
    "    #金額\n",
    "    cell_value_money = wks.cell(row+3, col+1).value\n",
    "\n",
    "    wks.update_cell(row+3, col, cell_value_what+\"\\n\"+what)\n",
    "    wks.update_cell(row+3, col+1, cell_value_money+\"\\n\"+money) \n",
    "    \n",
    "    #金額の合計\n",
    "    cell_money = wks.cell(row+3, col+1).value\n",
    "    wks.update_cell(row+3, col+2, sum([int(i) for i in cell_money.splitlines()]))\n",
    "    \n",
    "elif genre==\"おかし\":\n",
    "    #詳細\n",
    "    cell_value_what = wks.cell(row+4, col).value\n",
    "    #金額\n",
    "    cell_value_money = wks.cell(row+4, col+1).value\n",
    "\n",
    "    wks.update_cell(row+4, col, cell_value_what+\"\\n\"+what)\n",
    "    wks.update_cell(row+4, col+1, cell_value_money+\"\\n\"+money) \n",
    "    \n",
    "    #金額の合計\n",
    "    cell_money = wks.cell(row+4, col+1).value\n",
    "    wks.update_cell(row+4, col+2, sum([int(i) for i in cell_money.splitlines()]))\n",
    "    \n",
    "elif genre==\"趣味\":\n",
    "    #詳細\n",
    "    cell_value_what = wks.cell(row+5, col).value\n",
    "    #金額\n",
    "    cell_value_money = wks.cell(row+5, col+1).value\n",
    "\n",
    "    wks.update_cell(row+5, col, cell_value_what+\"\\n\"+what)\n",
    "    wks.update_cell(row+5, col+1, cell_value_money+\"\\n\"+money) \n",
    "    \n",
    "    #金額の合計\n",
    "    cell_money = wks.cell(row+5, col+1).value\n",
    "    wks.update_cell(row+5, col+2, sum([int(i) for i in cell_money.splitlines()]))\n",
    "\n",
    "elif genre==\"その他\":\n",
    "    #詳細\n",
    "    cell_value_what = wks.cell(row+6, col).value\n",
    "    #金額\n",
    "    cell_value_money = wks.cell(row+6, col+1).value\n",
    "\n",
    "    wks.update_cell(row+6, col, cell_value_what+\"\\n\"+what)\n",
    "    wks.update_cell(row+6, col+1, cell_value_money+\"\\n\"+money) \n",
    "    \n",
    "    #金額の合計\n",
    "    cell_money = wks.cell(row+6, col+1).value\n",
    "    wks.update_cell(row+6, col+2, sum([int(i) for i in cell_money.splitlines()]))"
   ]
  },
  {
   "cell_type": "markdown",
   "metadata": {},
   "source": [
    "後日入力した場合の対応"
   ]
  },
  {
   "cell_type": "code",
   "execution_count": 138,
   "metadata": {},
   "outputs": [],
   "source": [
    "text = \"おかし ローソン 1000 20191211\""
   ]
  },
  {
   "cell_type": "code",
   "execution_count": 121,
   "metadata": {},
   "outputs": [],
   "source": [
    "date = text.split(\" \")[3]"
   ]
  },
  {
   "cell_type": "code",
   "execution_count": 122,
   "metadata": {},
   "outputs": [
    {
     "data": {
      "text/plain": [
       "'20191211'"
      ]
     },
     "execution_count": 122,
     "metadata": {},
     "output_type": "execute_result"
    }
   ],
   "source": [
    "date"
   ]
  },
  {
   "cell_type": "code",
   "execution_count": 124,
   "metadata": {},
   "outputs": [
    {
     "data": {
      "text/plain": [
       "'2019'"
      ]
     },
     "execution_count": 124,
     "metadata": {},
     "output_type": "execute_result"
    }
   ],
   "source": [
    "date[:4]"
   ]
  },
  {
   "cell_type": "code",
   "execution_count": 125,
   "metadata": {},
   "outputs": [
    {
     "data": {
      "text/plain": [
       "'12'"
      ]
     },
     "execution_count": 125,
     "metadata": {},
     "output_type": "execute_result"
    }
   ],
   "source": [
    "date[4:6]"
   ]
  },
  {
   "cell_type": "code",
   "execution_count": 126,
   "metadata": {
    "scrolled": true
   },
   "outputs": [
    {
     "data": {
      "text/plain": [
       "'11'"
      ]
     },
     "execution_count": 126,
     "metadata": {},
     "output_type": "execute_result"
    }
   ],
   "source": [
    "date[6:8]"
   ]
  },
  {
   "cell_type": "code",
   "execution_count": 139,
   "metadata": {},
   "outputs": [],
   "source": [
    "#項目、内容、金額に分ける\n",
    "genre = text.split(\" \")[0]\n",
    "what = text.split(\" \")[1]\n",
    "money = text.split(\" \")[2]\n",
    "#日付について\n",
    "try:\n",
    "    date = text.split(\" \")[3]\n",
    "    #dateから取得\n",
    "    year = date[:4]\n",
    "    month = date[4:6]\n",
    "    day = date[6:8]\n",
    "except:\n",
    "    #現在の日付を取得\n",
    "    dt_now = datetime.now()\n",
    "    year = dt_now.year\n",
    "    month = dt_now.month\n",
    "    day = dt_now.day"
   ]
  },
  {
   "cell_type": "code",
   "execution_count": 130,
   "metadata": {},
   "outputs": [],
   "source": [
    "#あとは同じ"
   ]
  },
  {
   "cell_type": "code",
   "execution_count": null,
   "metadata": {},
   "outputs": [],
   "source": [
    "day_name = str(day) + \"日\"\n",
    "\n",
    "cell = wks.find(day_name)\n",
    "row = cell.row\n",
    "col = cell.col"
   ]
  },
  {
   "cell_type": "code",
   "execution_count": null,
   "metadata": {},
   "outputs": [],
   "source": []
  },
  {
   "cell_type": "markdown",
   "metadata": {},
   "source": [
    "全角スペースの対応"
   ]
  },
  {
   "cell_type": "code",
   "execution_count": 160,
   "metadata": {},
   "outputs": [],
   "source": [
    "text = \"その他　Python　1000　20191217\""
   ]
  },
  {
   "cell_type": "code",
   "execution_count": 159,
   "metadata": {},
   "outputs": [
    {
     "data": {
      "text/plain": [
       "'その他\\u3000Python\\u30001000\\u300020191217'"
      ]
     },
     "execution_count": 159,
     "metadata": {},
     "output_type": "execute_result"
    }
   ],
   "source": [
    "text.split(\" \")[0]"
   ]
  },
  {
   "cell_type": "code",
   "execution_count": 163,
   "metadata": {
    "scrolled": true
   },
   "outputs": [
    {
     "data": {
      "text/plain": [
       "'その他 Python 1000 20191217'"
      ]
     },
     "execution_count": 163,
     "metadata": {},
     "output_type": "execute_result"
    }
   ],
   "source": [
    "text.replace(\"　\", \" \")"
   ]
  },
  {
   "cell_type": "markdown",
   "metadata": {},
   "source": [
    "改行に対応"
   ]
  },
  {
   "cell_type": "code",
   "execution_count": 164,
   "metadata": {},
   "outputs": [],
   "source": [
    "text = \"その他\\nPython\\n1000\\n20191217\""
   ]
  },
  {
   "cell_type": "code",
   "execution_count": 165,
   "metadata": {},
   "outputs": [
    {
     "data": {
      "text/plain": [
       "'その他 Python 1000 20191217'"
      ]
     },
     "execution_count": 165,
     "metadata": {},
     "output_type": "execute_result"
    }
   ],
   "source": [
    "text.replace(\"\\n\", \" \")"
   ]
  },
  {
   "cell_type": "markdown",
   "metadata": {},
   "source": [
    "まとめる"
   ]
  },
  {
   "cell_type": "code",
   "execution_count": null,
   "metadata": {},
   "outputs": [],
   "source": [
    "text = event.message.text\n",
    "#全角スペースを半角スペースに対応\n",
    "text = text.replace(\"　\", \" \")\n",
    "text = text.replace(\"\\n\", \" \")\n",
    "\n",
    "#項目、内容、金額に分ける\n",
    "genre = text.split(\" \")[0]\n",
    "what = text.split(\" \")[1]\n",
    "money = text.split(\" \")[2]\n",
    "#日付について\n",
    "try:\n",
    "    date = text.split(\" \")[3]\n",
    "    #dateから取得\n",
    "    year = date[:4]\n",
    "    month = date[4:6]\n",
    "    day = date[6:8]\n",
    "except:\n",
    "    #現在の日付を取得\n",
    "    dt_now = datetime.now()\n",
    "    year = dt_now.year\n",
    "    month = dt_now.month\n",
    "    day = dt_now.day\n",
    "    \n",
    "#ワークシートを開く\n",
    "year_month = str(year) + \"/\" + str(month)\n",
    "wks = gc.open('money_LINE_python').worksheet(year_month)\n",
    "\n",
    "#日付を検索\n",
    "day_name = str(day) + \"日\"\n",
    "\n",
    "cell = wks.find(day_name)\n",
    "row = cell.row\n",
    "col = cell.col\n",
    "\n",
    "#ジャンルごとに値を更新\n",
    "if genre==\"交通費\":\n",
    "    #詳細\n",
    "    cell_value_what = wks.cell(row+2, col).value\n",
    "    #金額\n",
    "    cell_value_money = wks.cell(row+2, col+1).value\n",
    "\n",
    "    wks.update_cell(row+2, col, cell_value_what+\"\\n\"+what)\n",
    "    wks.update_cell(row+2, col+1, cell_value_money+\"\\n\"+money) \n",
    "    \n",
    "    #金額の合計\n",
    "    cell_money = wks.cell(row+2, col+1).value\n",
    "    wks.update_cell(row+2, col+2, sum([int(i) for i in cell_money.splitlines()]))\n",
    "    \n",
    "elif genre==\"食事\":\n",
    "    #詳細\n",
    "    cell_value_what = wks.cell(row+3, col).value\n",
    "    #金額\n",
    "    cell_value_money = wks.cell(row+3, col+1).value\n",
    "\n",
    "    wks.update_cell(row+3, col, cell_value_what+\"\\n\"+what)\n",
    "    wks.update_cell(row+3, col+1, cell_value_money+\"\\n\"+money) \n",
    "    \n",
    "    #金額の合計\n",
    "    cell_money = wks.cell(row+3, col+1).value\n",
    "    wks.update_cell(row+3, col+2, sum([int(i) for i in cell_money.splitlines()]))\n",
    "    \n",
    "elif genre==\"おかし\":\n",
    "    #詳細\n",
    "    cell_value_what = wks.cell(row+4, col).value\n",
    "    #金額\n",
    "    cell_value_money = wks.cell(row+4, col+1).value\n",
    "\n",
    "    wks.update_cell(row+4, col, cell_value_what+\"\\n\"+what)\n",
    "    wks.update_cell(row+4, col+1, cell_value_money+\"\\n\"+money) \n",
    "    \n",
    "    #金額の合計\n",
    "    cell_money = wks.cell(row+4, col+1).value\n",
    "    wks.update_cell(row+4, col+2, sum([int(i) for i in cell_money.splitlines()]))\n",
    "    \n",
    "elif genre==\"趣味\":\n",
    "    #詳細\n",
    "    cell_value_what = wks.cell(row+5, col).value\n",
    "    #金額\n",
    "    cell_value_money = wks.cell(row+5, col+1).value\n",
    "\n",
    "    wks.update_cell(row+5, col, cell_value_what+\"\\n\"+what)\n",
    "    wks.update_cell(row+5, col+1, cell_value_money+\"\\n\"+money) \n",
    "    \n",
    "    #金額の合計\n",
    "    cell_money = wks.cell(row+5, col+1).value\n",
    "    wks.update_cell(row+5, col+2, sum([int(i) for i in cell_money.splitlines()]))\n",
    "\n",
    "elif genre==\"その他\":\n",
    "    #詳細\n",
    "    cell_value_what = wks.cell(row+6, col).value\n",
    "    #金額\n",
    "    cell_value_money = wks.cell(row+6, col+1).value\n",
    "\n",
    "    wks.update_cell(row+6, col, cell_value_what+\"\\n\"+what)\n",
    "    wks.update_cell(row+6, col+1, cell_value_money+\"\\n\"+money) \n",
    "    \n",
    "    #金額の合計\n",
    "    cell_money = wks.cell(row+6, col+1).value\n",
    "    wks.update_cell(row+6, col+2, sum([int(i) for i in cell_money.splitlines()]))"
   ]
  },
  {
   "cell_type": "code",
   "execution_count": null,
   "metadata": {},
   "outputs": [],
   "source": []
  },
  {
   "cell_type": "code",
   "execution_count": null,
   "metadata": {},
   "outputs": [],
   "source": []
  }
 ],
 "metadata": {
  "kernelspec": {
   "display_name": "Python 3",
   "language": "python",
   "name": "python3"
  },
  "language_info": {
   "codemirror_mode": {
    "name": "ipython",
    "version": 3
   },
   "file_extension": ".py",
   "mimetype": "text/x-python",
   "name": "python",
   "nbconvert_exporter": "python",
   "pygments_lexer": "ipython3",
   "version": "3.7.5"
  },
  "toc": {
   "base_numbering": 1,
   "nav_menu": {},
   "number_sections": true,
   "sideBar": true,
   "skip_h1_title": false,
   "title_cell": "Table of Contents",
   "title_sidebar": "Contents",
   "toc_cell": false,
   "toc_position": {},
   "toc_section_display": true,
   "toc_window_display": false
  }
 },
 "nbformat": 4,
 "nbformat_minor": 2
}
